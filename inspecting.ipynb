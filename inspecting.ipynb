{
 "cells": [
  {
   "cell_type": "code",
   "execution_count": 6,
   "metadata": {},
   "outputs": [],
   "source": [
    "import xarray as xr\n",
    "import numpy as np\n",
    "import matplotlib.pyplot as plt\n",
    "import pickle"
   ]
  },
  {
   "cell_type": "code",
   "execution_count": 7,
   "metadata": {},
   "outputs": [],
   "source": [
    "data = xr.open_dataset('data.nc')\n",
    "data = data['ARPES'][:500].values\n",
    "counts = data.sum(axis=1).sum(axis=1)\n",
    "with open('positions_measured.pkl', 'rb') as f:\n",
    "    positions_measured = pickle.load(f)\n",
    "with open('cluster_label_history.pkl', 'rb') as f:\n",
    "    cluster_label_history = pickle.load(f)\n",
    "    "
   ]
  },
  {
   "cell_type": "code",
   "execution_count": 9,
   "metadata": {},
   "outputs": [
    {
     "name": "stdout",
     "output_type": "stream",
     "text": [
      "-45.50715255737305 45.03228759765625 -42.68745040893555 45.02500915527344\n",
      "100.00%%\r"
     ]
    }
   ],
   "source": [
    "from PIL import Image\n",
    "\n",
    "def fig_to_pil(fig):\n",
    "    fig.canvas.draw()\n",
    "    return Image.frombytes('RGB', fig.canvas.get_width_height(),fig.canvas.tostring_rgb())\n",
    "\n",
    "def order_cluster_labels_by_counts(positions_measured, labels, counts):\n",
    "    positions_measured = np.asarray(positions_measured)\n",
    "    labels = np.asarray(labels)\n",
    "    counts = np.asarray(counts)[:len(labels)]\n",
    "\n",
    "    num_pts = positions_measured.shape[0]\n",
    "    counts = counts[:num_pts]\n",
    "    median_counts = []\n",
    "    labels_looped = []\n",
    "    # print(labels.shape, counts.shape)\n",
    "    for i, label in enumerate(set(labels)):\n",
    "        median_counts.append(np.sum(np.where(labels == label, counts, 0)))\n",
    "        labels_looped.append(label)\n",
    "    \n",
    "    ordered_labels = np.zeros(labels.shape)*np.nan\n",
    "    indices = np.argsort(median_counts)\n",
    "    # median_counts_ordered = np.array(median_counts)[indices]\n",
    "    labels_ordered = np.array(labels_looped)[indices]\n",
    "    # print(median_counts_ordered)\n",
    "    # print(labels_looped)\n",
    "\n",
    "    lookup_new_index = {before: after for after, before in zip(labels_looped, labels_ordered)}\n",
    "    ordered_labels = [lookup_new_index.get(item,item) for item in labels]\n",
    "    return ordered_labels\n",
    "\n",
    "from scipy.interpolate import griddata\n",
    "minx, maxx = np.min(positions_measured, axis=0)[0], np.max(positions_measured, axis=0)[0]\n",
    "miny, maxy = np.min(positions_measured, axis=0)[1], np.max(positions_measured, axis=0)[1]\n",
    "xgrid = np.linspace(minx, maxx, 200)\n",
    "ygrid = np.linspace(miny, maxy, 200)\n",
    "xgrid, ygrid = np.meshgrid(xgrid, ygrid)\n",
    "print(np.min(xgrid.flatten()), np.max(xgrid.flatten()), np.min(ygrid.flatten()), np.max(ygrid.flatten()))\n",
    "\n",
    "\n",
    "imgs = []\n",
    "num = len(positions_measured)\n",
    "for i in range(1,num+1):\n",
    "# for i in range(1,40):\n",
    "    fig, (ax1,ax3) = plt.subplots(1,2, figsize=(10,5))\n",
    "    labels_ordered = order_cluster_labels_by_counts(positions_measured, cluster_label_history[i-1], counts)\n",
    "    label_nearest_matrix = griddata(np.array(positions_measured[:i]), labels_ordered, (xgrid, ygrid), method='nearest')\n",
    "    ax1.imshow(label_nearest_matrix, extent=[minx,maxx,miny,maxy], origin='lower', cmap='jet')\n",
    "    ax1.scatter(*np.array(positions_measured[:i]).T, marker='.', c='k', s=1)\n",
    "    # ax2.hist(cluster_label_history[i-1], bins=5)\n",
    "    # ax2.bar([0,1,2,3,4], np.histogram(cluster_label_history[i-1], bins=5)[0], c=labels_ordered, cmap='tab10')\n",
    "    ax3.imshow(data[i-1], origin='lower', cmap='gray_r')\n",
    "    imgs.append(fig_to_pil(fig))\n",
    "    plt.close()\n",
    "    print(f'{i/num:.2%}%', end='\\r')\n",
    "\n",
    "imgs[0].save('sim_gr_expt.gif', format='GIF',\n",
    "                append_images=imgs[1:],\n",
    "                save_all=True, quality=300,\n",
    "                duration=100, loop=0)\n",
    "imgs[-1].save('sim_gr_expt_final.png', format='PNG')"
   ]
  },
  {
   "cell_type": "code",
   "execution_count": null,
   "metadata": {},
   "outputs": [],
   "source": []
  }
 ],
 "metadata": {
  "kernelspec": {
   "display_name": "Python 3",
   "language": "python",
   "name": "python3"
  },
  "language_info": {
   "codemirror_mode": {
    "name": "ipython",
    "version": 3
   },
   "file_extension": ".py",
   "mimetype": "text/x-python",
   "name": "python",
   "nbconvert_exporter": "python",
   "pygments_lexer": "ipython3",
   "version": "3.9.6"
  },
  "orig_nbformat": 4
 },
 "nbformat": 4,
 "nbformat_minor": 2
}
